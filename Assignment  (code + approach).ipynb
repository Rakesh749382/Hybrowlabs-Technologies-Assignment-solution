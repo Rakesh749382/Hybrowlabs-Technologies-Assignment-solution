{
  "metadata": {
    "language_info": {
      "codemirror_mode": {
        "name": "python",
        "version": 3
      },
      "file_extension": ".py",
      "mimetype": "text/x-python",
      "name": "python",
      "nbconvert_exporter": "python",
      "pygments_lexer": "ipython3",
      "version": "3.8"
    },
    "kernelspec": {
      "name": "python",
      "display_name": "Python (Pyodide)",
      "language": "python"
    }
  },
  "nbformat_minor": 4,
  "nbformat": 4,
  "cells": [
    {
      "cell_type": "code",
      "source": "Part 1: DSA",
      "metadata": {},
      "execution_count": null,
      "outputs": []
    },
    {
      "cell_type": "code",
      "source": "Problem 1: Stack\nImplement a stack data structure in Python. The stack should support the following operations:\npush(item) - Add an item to the top of the stack.\npop() - Remove and return the item on the top of the stack.\npeek() - Return the item on the top of the stack without removing it.\nis_empty() - Return True if the stack is empty, else False.\n",
      "metadata": {},
      "execution_count": null,
      "outputs": []
    },
    {
      "cell_type": "code",
      "source": "def push(stack, item):\n    stack.append(item)\n\ndef pop(stack):\n    if not is_empty(stack):\n        return stack.pop()\n\ndef peek(stack):\n    if not is_empty(stack):\n        return stack[-1]\n\ndef is_empty(stack):\n    return len(stack) == 0\nstack = []\npush(stack, 1)\npush(stack, 2)\npush(stack, 3)\nprint(peek(stack))  \nprint(pop(stack))   \nprint(pop(stack))   \nprint(is_empty(stack))  \nprint(pop(stack))   \nprint(is_empty(stack))  \n",
      "metadata": {
        "trusted": true
      },
      "execution_count": 14,
      "outputs": [
        {
          "name": "stdout",
          "text": "3\n3\n2\nFalse\n1\nTrue\n",
          "output_type": "stream"
        }
      ]
    },
    {
      "cell_type": "code",
      "source": "Approach:\n    This implementation uses the built-in append function to add items to the top of the stack, and pop with no argument to remove the item on top of the stack. The peek function returns the last element of the list if the list is not empty. The is_empty function checks if the length of the list is 0.",
      "metadata": {},
      "execution_count": null,
      "outputs": []
    },
    {
      "cell_type": "code",
      "source": "Problem 2: Queue\nImplement a queue data structure in Python. The queue should support the following operations:\nenqueue(item) - Add an item to the back of the queue.\ndequeue() - Remove and return the item at the front of the queue.\npeek() - Return the item at the front of the queue without removing it.\nis_empty() - Return True if the queue is empty, else False.\n",
      "metadata": {
        "trusted": true
      },
      "execution_count": null,
      "outputs": []
    },
    {
      "cell_type": "code",
      "source": "def enqueue(queue, item):\n    queue.append(item)\n\ndef dequeue(queue):\n    if not is_empty(queue):\n        return queue.pop(0)\n\ndef peek(queue):\n    if not is_empty(queue):\n        return queue[0]\n\ndef is_empty(queue):\n    return len(queue) == 0\nqueue = []\nenqueue(queue, 1)\nenqueue(queue, 2)\nenqueue(queue, 3)\nprint(peek(queue)) \nprint(dequeue(queue))  \nprint(dequeue(queue))   \nprint(is_empty(queue))  \nprint(dequeue(queue))   \nprint(is_empty(queue))  \n",
      "metadata": {
        "trusted": true
      },
      "execution_count": 15,
      "outputs": [
        {
          "name": "stdout",
          "text": "1\n1\n2\nFalse\n3\nTrue\n",
          "output_type": "stream"
        }
      ]
    },
    {
      "cell_type": "code",
      "source": "Approach:\n    This implementation uses the built-in append function to add items to the back of the queue, and pop(0) to remove the item at the front of the queue. The peek function returns the first element of the list if the list is not empty. The is_empty function checks if the length of the list is 0.",
      "metadata": {},
      "execution_count": null,
      "outputs": []
    },
    {
      "cell_type": "code",
      "source": "Problem 3: Binary Search Tree\nImplement a binary search tree (BST) data structure in Python. The BST should support the following operations:\ninsert(item) - Insert an item into the tree.\ndelete(item) - Remove an item from the tree.\nsearch(item) - Return True if the item is in the tree, else False.\nsize() - Return the number of nodes in the tree.\n",
      "metadata": {},
      "execution_count": null,
      "outputs": []
    },
    {
      "cell_type": "code",
      "source": "def insert(tree, item):\n    if tree is None:\n        return {'value': item, 'left': None, 'right': None}\n    if item < tree['value']:\n        tree['left'] = insert(tree['left'], item)\n    else:\n        tree['right'] = insert(tree['right'], item)\n    return tree\n\ndef delete(tree, item):\n    if tree is None:\n        return None\n    if item < tree['value']:\n        tree['left'] = delete(tree['left'], item)\n    elif item > tree['value']:\n        tree['right'] = delete(tree['right'], item)\n    else:\n        if tree['left'] is None:\n            return tree['right']\n        elif tree['right'] is None:\n            return tree['left']\n        else:\n            min_right = find_min(tree['right'])\n            tree['value'] = min_right\n            tree['right'] = delete(tree['right'], min_right)\n    return tree\n\ndef find_min(tree):\n    while tree['left'] is not None:\n        tree = tree['left']\n    return tree['value']\n\ndef search(tree, item):\n    if tree is None:\n        return False\n    if item < tree['value']:\n        return search(tree['left'], item)\n    elif item > tree['value']:\n        return search(tree['right'], item)\n    else:\n        return True\n\ndef size(tree):\n    if tree is None:\n        return 0\n    return 1 + size(tree['left']) + size(tree['right'])\ntree = None\ntree = insert(tree, 5)\ntree = insert(tree, 3)\ntree = insert(tree, 7)\nprint(search(tree, 5))  \nprint(search(tree, 4))  \nprint(size(tree))       \ntree = delete(tree, 5)\nprint(search(tree, 5))  \nprint(size(tree))       \n",
      "metadata": {
        "trusted": true
      },
      "execution_count": 17,
      "outputs": [
        {
          "name": "stdout",
          "text": "True\nFalse\n3\nFalse\n2\n",
          "output_type": "stream"
        }
      ]
    },
    {
      "cell_type": "code",
      "source": "Approach:\n    This implementation uses nested dictionaries to represent the tree nodes, with each node having a 'value', 'left', and 'right' key. The insert function recursively inserts a new node into the appropriate subtree based on the value of the item being inserted. The delete function recursively removes a node from the tree, and find_min is a helper function that finds the minimum value in a subtree. The search function recursively searches the tree for a specific item. The size function recursively counts the number of nodes in the tree.",
      "metadata": {},
      "execution_count": null,
      "outputs": []
    },
    {
      "cell_type": "code",
      "source": "Part 2: Python",
      "metadata": {},
      "execution_count": null,
      "outputs": []
    },
    {
      "cell_type": "code",
      "source": "Problem 1: Anagram Checker\nWrite a Python function that takes in two strings and returns True if they are anagrams of each other, else False. An anagram is a word or phrase formed by rearranging the letters of a different word or phrase, typically using all the original letters exactly once.",
      "metadata": {},
      "execution_count": null,
      "outputs": []
    },
    {
      "cell_type": "code",
      "source": "def is_anagram(s1, s2):\n    if len(s1) != len(s2):\n        return False\n    else:\n        s1_dict = {}\n        s2_dict = {}\n        for letter in s1:\n            if letter in s1_dict:\n                s1_dict[letter] += 1\n            else:\n                s1_dict[letter] = 1\n        for letter in s2:\n            if letter in s2_dict:\n                s2_dict[letter] += 1\n            else:\n                s2_dict[letter] = 1\n        return s1_dict == s2_dict\ns1=\"spar\"\ns2=\"rasp\"\nis_anagram(s1,s2)",
      "metadata": {
        "trusted": true
      },
      "execution_count": 3,
      "outputs": [
        {
          "execution_count": 3,
          "output_type": "execute_result",
          "data": {
            "text/plain": "True"
          },
          "metadata": {}
        }
      ]
    },
    {
      "cell_type": "code",
      "source": "Approach:\n    The above is_anagram() function takes a different approach to solve the anagram problem using dictionaries.\n\nThe function first checks if the length of both strings is the same, which is a necessary condition for two strings to be anagrams. Then, it initializes two empty dictionaries s1_dict and s2_dict.\n\nThe function then iterates through each character in both strings and updates the count of each character in their respective dictionaries. If a character is already in the dictionary, its count is incremented, otherwise it is added to the dictionary with a count of 1.\n\nFinally, the function returns whether the two dictionaries are equal, which means that both strings have the same characters with the same count, and hence are anagrams of each other.",
      "metadata": {},
      "execution_count": null,
      "outputs": []
    },
    {
      "cell_type": "code",
      "source": "Problem 2: FizzBuzz\nWrite a Python function that takes in an integer n and prints the numbers from 1 to n. For multiples of 3, print \"Fizz\" instead of the number. For multiples of 5, print \"Buzz\" instead of the number. For multiples of both 3 and 5, print \"FizzBuzz\" instead of the number.\n",
      "metadata": {},
      "execution_count": null,
      "outputs": []
    },
    {
      "cell_type": "code",
      "source": "def fizzbuzz(n):\n    for i in range(1, n+1):\n        if i % 3 == 0 and i % 5 == 0:\n            print(\"FizzBuzz\")\n        elif i % 3 == 0:\n            print(\"Fizz\")\n        elif i % 5 == 0:\n            print(\"Buzz\")\n        else:\n            print(i)\nn=10\nfizzbuzz(n)",
      "metadata": {
        "trusted": true
      },
      "execution_count": 4,
      "outputs": [
        {
          "name": "stdout",
          "text": "1\n2\nFizz\n4\nBuzz\nFizz\n7\n8\nFizz\nBuzz\n",
          "output_type": "stream"
        }
      ]
    },
    {
      "cell_type": "code",
      "source": "Approach:\n    The fizzbuzz() function takes a single parameter n, which is the upper limit of the range of numbers to be printed. The function uses a for loop to iterate over the range of numbers from 1 to n (inclusive).\n\nFor each number in the range, the function first checks if it is divisible by both 3 and 5 using the modulo operator (%). If the number is divisible by both 3 and 5, it prints \"FizzBuzz\". If not, it checks if the number is divisible by 3 only, in which case it prints \"Fizz\". If the number is not divisible by 3, it checks if it is divisible by 5 only, in which case it prints \"Buzz\". If the number is not divisible by either 3 or 5, it simply prints the number.",
      "metadata": {},
      "execution_count": null,
      "outputs": []
    },
    {
      "cell_type": "code",
      "source": "Problem 3: Fibonacci Sequence\nWrite a Python function that takes in an integer n and returns the nth number in the Fibonacci sequence. The Fibonacci sequence is a series of numbers in which each number after the first two is the sum of the two preceding ones.",
      "metadata": {},
      "execution_count": null,
      "outputs": []
    },
    {
      "cell_type": "code",
      "source": "def fibonacci(n):\n    if n <= 0:\n        return None\n    elif n == 1:\n        return 0\n    elif n == 2:\n        return 1\n    else:\n        fib1 = 0\n        fib2 = 1\n        for i in range(3, n+1):\n            fib3 = fib1 + fib2\n            fib1 = fib2\n            fib2 = fib3\n        return fib2\nn=10\nfibonacci(n)",
      "metadata": {
        "trusted": true
      },
      "execution_count": 5,
      "outputs": [
        {
          "execution_count": 5,
          "output_type": "execute_result",
          "data": {
            "text/plain": "34"
          },
          "metadata": {}
        }
      ]
    },
    {
      "cell_type": "code",
      "source": "Approach:\n    The fibonacci() function takes a single parameter n, which represents the index of the desired number in the Fibonacci sequence. The function returns the nth number in the sequence, which is calculated using the previous two numbers in the sequence.\n\nThe function first checks if n is less than or equal to 0. If so, it returns None since there is no valid Fibonacci number for negative or zero values of n. If n is 1, the function returns 0, since the first Fibonacci number is 0. If n is 2, the function returns 1, since the second Fibonacci number is 1.\n\nIf n is greater than 2, the function initializes two variables fib1 and fib2 with the first two Fibonacci numbers, 0 and 1, respectively. The function then uses a for loop to iterate from 3 to n (inclusive). In each iteration, the function calculates the next Fibonacci number fib3 by adding the previous two numbers fib1 and fib2. Then, it updates fib1 and fib2 to the previous two numbers in the sequence by assigning fib2 to fib1 and fib3 to fib2.\n\nFinally, the function returns fib2, which represents the nth Fibonacci number.",
      "metadata": {},
      "execution_count": null,
      "outputs": []
    }
  ]
}